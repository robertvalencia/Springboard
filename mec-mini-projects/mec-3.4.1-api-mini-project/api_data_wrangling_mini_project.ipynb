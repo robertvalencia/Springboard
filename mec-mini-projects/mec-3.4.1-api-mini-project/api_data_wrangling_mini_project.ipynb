{
 "cells": [
  {
   "cell_type": "markdown",
   "metadata": {},
   "source": [
    "This exercise will require you to pull some data from the Qunadl API. Qaundl is currently the most widely used aggregator of financial market data."
   ]
  },
  {
   "cell_type": "markdown",
   "metadata": {},
   "source": [
    "As a first step, you will need to register a free account on the http://www.quandl.com website."
   ]
  },
  {
   "cell_type": "markdown",
   "metadata": {},
   "source": [
    "After you register, you will be provided with a unique API key, that you should store:"
   ]
  },
  {
   "cell_type": "code",
   "execution_count": 1,
   "metadata": {
    "tags": []
   },
   "outputs": [],
   "source": [
    "# Store the API key as a string - according to PEP8, constants are always named in all upper case\n",
    "  \n",
    "import json\n",
    "with open(\"config_secret.json\") as cnfg_file:\n",
    "    cnfg = json.load(cnfg_file)\n",
    "    \n",
    "API_KEY = cnfg['api_key']"
   ]
  },
  {
   "cell_type": "markdown",
   "metadata": {},
   "source": [
    "Qaundl has a large number of data sources, but, unfortunately, most of them require a Premium subscription. Still, there are also a good number of free datasets."
   ]
  },
  {
   "cell_type": "markdown",
   "metadata": {},
   "source": [
    "For this mini project, we will focus on equities data from the Frankfurt Stock Exhange (FSE), which is available for free. We'll try and analyze the stock prices of a company called Carl Zeiss Meditec, which manufactures tools for eye examinations, as well as medical lasers for laser eye surgery: https://www.zeiss.com/meditec/int/home.html. The company is listed under the stock ticker AFX_X."
   ]
  },
  {
   "cell_type": "markdown",
   "metadata": {},
   "source": [
    "You can find the detailed Quandl API instructions here: https://docs.quandl.com/docs/time-series"
   ]
  },
  {
   "cell_type": "markdown",
   "metadata": {},
   "source": [
    "While there is a dedicated Python package for connecting to the Quandl API, we would prefer that you use the *requests* package, which can be easily downloaded using *pip* or *conda*. You can find the documentation for the package here: http://docs.python-requests.org/en/master/ "
   ]
  },
  {
   "cell_type": "markdown",
   "metadata": {},
   "source": [
    "Finally, apart from the *requests* package, you are encouraged to not use any third party Python packages, such as *pandas*, and instead focus on what's available in the Python Standard Library (the *collections* module might come in handy: https://pymotw.com/3/collections/).\n",
    "Also, since you won't have access to DataFrames, you are encouraged to us Python's native data structures - preferably dictionaries, though some questions can also be answered using lists.\n",
    "You can read more on these data structures here: https://docs.python.org/3/tutorial/datastructures.html"
   ]
  },
  {
   "cell_type": "markdown",
   "metadata": {},
   "source": [
    "Keep in mind that the JSON responses you will be getting from the API map almost one-to-one to Python's dictionaries. Unfortunately, they can be very nested, so make sure you read up on indexing dictionaries in the documentation provided above."
   ]
  },
  {
   "cell_type": "code",
   "execution_count": 2,
   "metadata": {
    "tags": []
   },
   "outputs": [],
   "source": [
    "# First, import the relevant modules\n",
    "\n",
    "import json\n",
    "import math\n",
    "import requests"
   ]
  },
  {
   "cell_type": "code",
   "execution_count": 3,
   "metadata": {
    "tags": []
   },
   "outputs": [],
   "source": [
    "# Now, call the Quandl API and pull out a small sample of the data (only one day) to get a glimpse\n",
    "# into the JSON structure that will be returned\n",
    "\n",
    "url = 'https://www.quandl.com/api/v3/datasets/FSE/AFX_X/data.json'\n",
    "params = {'api_key': API_KEY, 'start_date': '2020-12-01', 'end_date': '2020-12-01'}\n",
    "r = requests.get(url, params=params)"
   ]
  },
  {
   "cell_type": "code",
   "execution_count": 4,
   "metadata": {
    "tags": []
   },
   "outputs": [
    {
     "data": {
      "text/plain": [
       "{'dataset_data': {'limit': None,\n",
       "  'transform': None,\n",
       "  'column_index': None,\n",
       "  'column_names': ['Date',\n",
       "   'Open',\n",
       "   'High',\n",
       "   'Low',\n",
       "   'Close',\n",
       "   'Change',\n",
       "   'Traded Volume',\n",
       "   'Turnover',\n",
       "   'Last Price of the Day',\n",
       "   'Daily Traded Units',\n",
       "   'Daily Turnover'],\n",
       "  'start_date': '2020-12-01',\n",
       "  'end_date': '2020-12-01',\n",
       "  'frequency': 'daily',\n",
       "  'data': [['2020-12-01',\n",
       "    112.2,\n",
       "    112.2,\n",
       "    111.5,\n",
       "    112.0,\n",
       "    None,\n",
       "    51.0,\n",
       "    5703.0,\n",
       "    None,\n",
       "    None,\n",
       "    None]],\n",
       "  'collapse': None,\n",
       "  'order': None}}"
      ]
     },
     "execution_count": 4,
     "metadata": {},
     "output_type": "execute_result"
    }
   ],
   "source": [
    "# Inspect the JSON structure of the object you created, and take note of how nested it is,\n",
    "# as well as the overall structure\n",
    "\n",
    "r.json()"
   ]
  },
  {
   "cell_type": "markdown",
   "metadata": {},
   "source": [
    "These are your tasks for this mini project:\n",
    "\n",
    "1. Collect data from the Franfurt Stock Exchange, for the ticker AFX_X, for the whole year 2017 (keep in mind that the date format is YYYY-MM-DD).\n",
    "2. Convert the returned JSON object into a Python dictionary.\n",
    "3. Calculate what the highest and lowest opening prices were for the stock in this period.\n",
    "4. What was the largest change in any one day (based on High and Low price)?\n",
    "5. What was the largest change between any two days (based on Closing Price)?\n",
    "6. What was the average daily trading volume during this year?\n",
    "7. (Optional) What was the median trading volume during this year. (Note: you may need to implement your own function for calculating the median.)"
   ]
  },
  {
   "cell_type": "code",
   "execution_count": 5,
   "metadata": {},
   "outputs": [],
   "source": [
    "params = {'api_key': API_KEY, 'start_date': '2017-01-01', 'end_date': '2017-12-31'}\n",
    "r = requests.get(url, params=params) # Task 1: Collect data from the Franfurt Stock Exchange, for the ticker AFX_X, for the whole year 2017\n",
    "afx_x = r.json() # Task 2: Convert the returned JSON object into a Python dictionary."
   ]
  },
  {
   "cell_type": "code",
   "execution_count": 6,
   "metadata": {},
   "outputs": [],
   "source": [
    "max_high = float('-inf')\n",
    "min_low = float('inf')\n",
    "max_hl_change = float('-inf')\n",
    "max_close = float('-inf')\n",
    "min_close = float('inf')\n",
    "tradvol_tot = 0\n",
    "days = afx_x['dataset_data']['data']\n",
    "tradvols = []\n",
    "\n",
    "for day in days:\n",
    "    high = day[2]\n",
    "    low = day[3]\n",
    "    hl_change = high - low\n",
    "    close = day[4]\n",
    "    tradvol = day[6]\n",
    " \n",
    "    # Task 3: Calculate the highest opening price in this period.\n",
    "    if high > max_high:\n",
    "        max_high = high\n",
    "           \n",
    "    # Task 3: Calculate the lowest opening price in this period.\n",
    "    if low < min_low:\n",
    "        min_low = low\n",
    "        \n",
    "    # Task 4: The largest change in any one day (based on High and Low price)?\n",
    "    if hl_change > max_hl_change:\n",
    "        max_hl_change =  hl_change\n",
    "        \n",
    "    if close > max_close:\n",
    "        max_close = close \n",
    "        \n",
    "    if close < min_close:\n",
    "        min_close = close \n",
    "\n",
    "    tradvol_tot = tradvol_tot + tradvol\n",
    "    tradvols.append(tradvol)\n",
    "\n",
    "max_close_change = max_close - min_close # Task 5: The largest change between any two days (based on Closing Price)\n",
    "num_days = len(days)\n",
    "tradvol_avg = tradvol_tot / num_days # Task 6: The average daily trading volume during this year\n",
    "\n",
    "tradvols.sort()\n",
    "# Task 7: The median trading volume during this year\n",
    "if (num_days % 2) == 0:\n",
    "    tradvol_median = tradvols[num_days/2]\n",
    "else:\n",
    "    tradvol_median = (tradvols[math.floor(num_days/2)] + tradvols[math.ceil(num_days/2)]) / 2"
   ]
  },
  {
   "cell_type": "code",
   "execution_count": 7,
   "metadata": {},
   "outputs": [
    {
     "name": "stdout",
     "output_type": "stream",
     "text": [
      "For the stock prices of Carl Zeiss Meditec in 2017:\n",
      "The highest opening price in 2017 was 53.54\n",
      "The lowest closing price in 2017 was 33.62\n",
      "The largest change between the low and high prices in any one day was 2.81\n",
      "The largest change between the closing prices on any two days was 19.03\n",
      "The average daily trading volume during this year was 89124.34\n",
      "The median trading volume during this year was 76443.0\n"
     ]
    }
   ],
   "source": [
    "print('For the stock prices of Carl Zeiss Meditec in 2017:')\n",
    "print('The highest opening price in 2017 was {}'.format(max_high))\n",
    "print('The lowest closing price in 2017 was {}'.format(min_low))\n",
    "print('The largest change between the low and high prices in any one day was {}'.format(round(max_hl_change, 2)))\n",
    "print('The largest change between the closing prices on any two days was {}'.format(round(max_close_change, 2)))\n",
    "print('The average daily trading volume during this year was {}'.format(round(tradvol_avg, 2)))\n",
    "print('The median trading volume during this year was {}'.format(round(tradvol_median, 2)))"
   ]
  }
 ],
 "metadata": {
  "kernelspec": {
   "display_name": "Python (MEC Mini-Projects)",
   "language": "python",
   "name": "mec-miniprojects"
  },
  "language_info": {
   "codemirror_mode": {
    "name": "ipython",
    "version": 3
   },
   "file_extension": ".py",
   "mimetype": "text/x-python",
   "name": "python",
   "nbconvert_exporter": "python",
   "pygments_lexer": "ipython3",
   "version": "3.7.10"
  }
 },
 "nbformat": 4,
 "nbformat_minor": 4
}
